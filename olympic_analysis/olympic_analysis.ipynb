{
 "cells": [
  {
   "cell_type": "code",
   "execution_count": 103,
   "metadata": {},
   "outputs": [],
   "source": [
    "import pandas as pd\n",
    "import matplotlib.pyplot as plt\n",
    "import seaborn as sns"
   ]
  },
  {
   "cell_type": "code",
   "execution_count": 66,
   "metadata": {},
   "outputs": [],
   "source": [
    "summer = pd.read_csv('summer.csv')\n",
    "winter = pd.read_csv('winter.csv')\n",
    "dic = pd.read_csv('dictionary.csv')\n"
   ]
  },
  {
   "cell_type": "code",
   "execution_count": 67,
   "metadata": {},
   "outputs": [
    {
     "name": "stdout",
     "output_type": "stream",
     "text": [
      "<class 'pandas.core.frame.DataFrame'>\n",
      "RangeIndex: 31165 entries, 0 to 31164\n",
      "Data columns (total 9 columns):\n",
      " #   Column      Non-Null Count  Dtype \n",
      "---  ------      --------------  ----- \n",
      " 0   Year        31165 non-null  int64 \n",
      " 1   City        31165 non-null  object\n",
      " 2   Sport       31165 non-null  object\n",
      " 3   Discipline  31165 non-null  object\n",
      " 4   Athlete     31165 non-null  object\n",
      " 5   Country     31161 non-null  object\n",
      " 6   Gender      31165 non-null  object\n",
      " 7   Event       31165 non-null  object\n",
      " 8   Medal       31165 non-null  object\n",
      "dtypes: int64(1), object(8)\n",
      "memory usage: 2.1+ MB\n"
     ]
    }
   ],
   "source": [
    "summer.info()"
   ]
  },
  {
   "cell_type": "code",
   "execution_count": 68,
   "metadata": {},
   "outputs": [
    {
     "name": "stdout",
     "output_type": "stream",
     "text": [
      "<class 'pandas.core.frame.DataFrame'>\n",
      "RangeIndex: 5770 entries, 0 to 5769\n",
      "Data columns (total 9 columns):\n",
      " #   Column      Non-Null Count  Dtype \n",
      "---  ------      --------------  ----- \n",
      " 0   Year        5770 non-null   int64 \n",
      " 1   City        5770 non-null   object\n",
      " 2   Sport       5770 non-null   object\n",
      " 3   Discipline  5770 non-null   object\n",
      " 4   Athlete     5770 non-null   object\n",
      " 5   Country     5770 non-null   object\n",
      " 6   Gender      5770 non-null   object\n",
      " 7   Event       5770 non-null   object\n",
      " 8   Medal       5770 non-null   object\n",
      "dtypes: int64(1), object(8)\n",
      "memory usage: 405.8+ KB\n"
     ]
    }
   ],
   "source": [
    "winter.info()"
   ]
  },
  {
   "cell_type": "code",
   "execution_count": 69,
   "metadata": {},
   "outputs": [
    {
     "data": {
      "text/html": [
       "<div>\n",
       "<style scoped>\n",
       "    .dataframe tbody tr th:only-of-type {\n",
       "        vertical-align: middle;\n",
       "    }\n",
       "\n",
       "    .dataframe tbody tr th {\n",
       "        vertical-align: top;\n",
       "    }\n",
       "\n",
       "    .dataframe thead th {\n",
       "        text-align: right;\n",
       "    }\n",
       "</style>\n",
       "<table border=\"1\" class=\"dataframe\">\n",
       "  <thead>\n",
       "    <tr style=\"text-align: right;\">\n",
       "      <th></th>\n",
       "      <th>Country</th>\n",
       "      <th>Code</th>\n",
       "      <th>Population</th>\n",
       "      <th>GDP per Capita</th>\n",
       "    </tr>\n",
       "  </thead>\n",
       "  <tbody>\n",
       "    <tr>\n",
       "      <th>0</th>\n",
       "      <td>Afghanistan</td>\n",
       "      <td>AFG</td>\n",
       "      <td>32526562.0</td>\n",
       "      <td>594.323081</td>\n",
       "    </tr>\n",
       "    <tr>\n",
       "      <th>1</th>\n",
       "      <td>Albania</td>\n",
       "      <td>ALB</td>\n",
       "      <td>2889167.0</td>\n",
       "      <td>3945.217582</td>\n",
       "    </tr>\n",
       "    <tr>\n",
       "      <th>2</th>\n",
       "      <td>Algeria</td>\n",
       "      <td>ALG</td>\n",
       "      <td>39666519.0</td>\n",
       "      <td>4206.031232</td>\n",
       "    </tr>\n",
       "  </tbody>\n",
       "</table>\n",
       "</div>"
      ],
      "text/plain": [
       "       Country Code  Population  GDP per Capita\n",
       "0  Afghanistan  AFG  32526562.0      594.323081\n",
       "1      Albania  ALB   2889167.0     3945.217582\n",
       "2      Algeria  ALG  39666519.0     4206.031232"
      ]
     },
     "execution_count": 69,
     "metadata": {},
     "output_type": "execute_result"
    }
   ],
   "source": [
    "dic.head(3)"
   ]
  },
  {
   "cell_type": "markdown",
   "metadata": {},
   "source": [
    "# Merging and Concating the dataframes"
   ]
  },
  {
   "cell_type": "markdown",
   "metadata": {},
   "source": [
    " 1. - concatenating summer and winter dataframe.\n",
    " 2. - adding a new column Edition (contains season summer and winter) so we can differentiate record's origin.\n",
    " 3. - reseting the index and dropping the old index."
   ]
  },
  {
   "cell_type": "code",
   "execution_count": 70,
   "metadata": {},
   "outputs": [
    {
     "name": "stdout",
     "output_type": "stream",
     "text": [
      "<class 'pandas.core.frame.DataFrame'>\n",
      "RangeIndex: 36935 entries, 0 to 36934\n",
      "Data columns (total 10 columns):\n",
      " #   Column      Non-Null Count  Dtype \n",
      "---  ------      --------------  ----- \n",
      " 0   Edition     36935 non-null  object\n",
      " 1   Year        36935 non-null  int64 \n",
      " 2   City        36935 non-null  object\n",
      " 3   Sport       36935 non-null  object\n",
      " 4   Discipline  36935 non-null  object\n",
      " 5   Athlete     36935 non-null  object\n",
      " 6   Country     36931 non-null  object\n",
      " 7   Gender      36935 non-null  object\n",
      " 8   Event       36935 non-null  object\n",
      " 9   Medal       36935 non-null  object\n",
      "dtypes: int64(1), object(9)\n",
      "memory usage: 2.8+ MB\n"
     ]
    }
   ],
   "source": [
    "olympics = pd.concat([summer, winter], axis=0, keys=[\"Summer\", \"Winter\"], names=[\n",
    "                     'Edition']).reset_index().drop(columns='level_1')\n",
    "olympics.info()"
   ]
  },
  {
   "cell_type": "markdown",
   "metadata": {},
   "source": [
    "1. Merging olympics with dic to get whole name of the countries"
   ]
  },
  {
   "cell_type": "code",
   "execution_count": 71,
   "metadata": {},
   "outputs": [
    {
     "data": {
      "text/html": [
       "<div>\n",
       "<style scoped>\n",
       "    .dataframe tbody tr th:only-of-type {\n",
       "        vertical-align: middle;\n",
       "    }\n",
       "\n",
       "    .dataframe tbody tr th {\n",
       "        vertical-align: top;\n",
       "    }\n",
       "\n",
       "    .dataframe thead th {\n",
       "        text-align: right;\n",
       "    }\n",
       "</style>\n",
       "<table border=\"1\" class=\"dataframe\">\n",
       "  <thead>\n",
       "    <tr style=\"text-align: right;\">\n",
       "      <th></th>\n",
       "      <th>Edition</th>\n",
       "      <th>Year</th>\n",
       "      <th>City</th>\n",
       "      <th>Sport</th>\n",
       "      <th>Discipline</th>\n",
       "      <th>Athlete</th>\n",
       "      <th>Country_x</th>\n",
       "      <th>Gender</th>\n",
       "      <th>Event</th>\n",
       "      <th>Medal</th>\n",
       "      <th>Country_y</th>\n",
       "      <th>Code</th>\n",
       "    </tr>\n",
       "  </thead>\n",
       "  <tbody>\n",
       "    <tr>\n",
       "      <th>0</th>\n",
       "      <td>Summer</td>\n",
       "      <td>1896</td>\n",
       "      <td>Athens</td>\n",
       "      <td>Aquatics</td>\n",
       "      <td>Swimming</td>\n",
       "      <td>HAJOS, Alfred</td>\n",
       "      <td>HUN</td>\n",
       "      <td>Men</td>\n",
       "      <td>100M Freestyle</td>\n",
       "      <td>Gold</td>\n",
       "      <td>Hungary</td>\n",
       "      <td>HUN</td>\n",
       "    </tr>\n",
       "    <tr>\n",
       "      <th>1</th>\n",
       "      <td>Summer</td>\n",
       "      <td>1896</td>\n",
       "      <td>Athens</td>\n",
       "      <td>Aquatics</td>\n",
       "      <td>Swimming</td>\n",
       "      <td>HERSCHMANN, Otto</td>\n",
       "      <td>AUT</td>\n",
       "      <td>Men</td>\n",
       "      <td>100M Freestyle</td>\n",
       "      <td>Silver</td>\n",
       "      <td>Austria</td>\n",
       "      <td>AUT</td>\n",
       "    </tr>\n",
       "    <tr>\n",
       "      <th>2</th>\n",
       "      <td>Summer</td>\n",
       "      <td>1896</td>\n",
       "      <td>Athens</td>\n",
       "      <td>Aquatics</td>\n",
       "      <td>Swimming</td>\n",
       "      <td>DRIVAS, Dimitrios</td>\n",
       "      <td>GRE</td>\n",
       "      <td>Men</td>\n",
       "      <td>100M Freestyle For Sailors</td>\n",
       "      <td>Bronze</td>\n",
       "      <td>Greece</td>\n",
       "      <td>GRE</td>\n",
       "    </tr>\n",
       "    <tr>\n",
       "      <th>3</th>\n",
       "      <td>Summer</td>\n",
       "      <td>1896</td>\n",
       "      <td>Athens</td>\n",
       "      <td>Aquatics</td>\n",
       "      <td>Swimming</td>\n",
       "      <td>MALOKINIS, Ioannis</td>\n",
       "      <td>GRE</td>\n",
       "      <td>Men</td>\n",
       "      <td>100M Freestyle For Sailors</td>\n",
       "      <td>Gold</td>\n",
       "      <td>Greece</td>\n",
       "      <td>GRE</td>\n",
       "    </tr>\n",
       "    <tr>\n",
       "      <th>4</th>\n",
       "      <td>Summer</td>\n",
       "      <td>1896</td>\n",
       "      <td>Athens</td>\n",
       "      <td>Aquatics</td>\n",
       "      <td>Swimming</td>\n",
       "      <td>CHASAPIS, Spiridon</td>\n",
       "      <td>GRE</td>\n",
       "      <td>Men</td>\n",
       "      <td>100M Freestyle For Sailors</td>\n",
       "      <td>Silver</td>\n",
       "      <td>Greece</td>\n",
       "      <td>GRE</td>\n",
       "    </tr>\n",
       "    <tr>\n",
       "      <th>...</th>\n",
       "      <td>...</td>\n",
       "      <td>...</td>\n",
       "      <td>...</td>\n",
       "      <td>...</td>\n",
       "      <td>...</td>\n",
       "      <td>...</td>\n",
       "      <td>...</td>\n",
       "      <td>...</td>\n",
       "      <td>...</td>\n",
       "      <td>...</td>\n",
       "      <td>...</td>\n",
       "      <td>...</td>\n",
       "    </tr>\n",
       "    <tr>\n",
       "      <th>36930</th>\n",
       "      <td>Winter</td>\n",
       "      <td>2014</td>\n",
       "      <td>Sochi</td>\n",
       "      <td>Skiing</td>\n",
       "      <td>Snowboard</td>\n",
       "      <td>JONES, Jenny</td>\n",
       "      <td>GBR</td>\n",
       "      <td>Women</td>\n",
       "      <td>Slopestyle</td>\n",
       "      <td>Bronze</td>\n",
       "      <td>United Kingdom</td>\n",
       "      <td>GBR</td>\n",
       "    </tr>\n",
       "    <tr>\n",
       "      <th>36931</th>\n",
       "      <td>Winter</td>\n",
       "      <td>2014</td>\n",
       "      <td>Sochi</td>\n",
       "      <td>Skiing</td>\n",
       "      <td>Snowboard</td>\n",
       "      <td>ANDERSON, Jamie</td>\n",
       "      <td>USA</td>\n",
       "      <td>Women</td>\n",
       "      <td>Slopestyle</td>\n",
       "      <td>Gold</td>\n",
       "      <td>United States</td>\n",
       "      <td>USA</td>\n",
       "    </tr>\n",
       "    <tr>\n",
       "      <th>36932</th>\n",
       "      <td>Winter</td>\n",
       "      <td>2014</td>\n",
       "      <td>Sochi</td>\n",
       "      <td>Skiing</td>\n",
       "      <td>Snowboard</td>\n",
       "      <td>MALTAIS, Dominique</td>\n",
       "      <td>CAN</td>\n",
       "      <td>Women</td>\n",
       "      <td>Snowboard Cross</td>\n",
       "      <td>Silver</td>\n",
       "      <td>Canada</td>\n",
       "      <td>CAN</td>\n",
       "    </tr>\n",
       "    <tr>\n",
       "      <th>36933</th>\n",
       "      <td>Winter</td>\n",
       "      <td>2014</td>\n",
       "      <td>Sochi</td>\n",
       "      <td>Skiing</td>\n",
       "      <td>Snowboard</td>\n",
       "      <td>SAMKOVA, Eva</td>\n",
       "      <td>CZE</td>\n",
       "      <td>Women</td>\n",
       "      <td>Snowboard Cross</td>\n",
       "      <td>Gold</td>\n",
       "      <td>Czech Republic</td>\n",
       "      <td>CZE</td>\n",
       "    </tr>\n",
       "    <tr>\n",
       "      <th>36934</th>\n",
       "      <td>Winter</td>\n",
       "      <td>2014</td>\n",
       "      <td>Sochi</td>\n",
       "      <td>Skiing</td>\n",
       "      <td>Snowboard</td>\n",
       "      <td>TRESPEUCH, Chloe</td>\n",
       "      <td>FRA</td>\n",
       "      <td>Women</td>\n",
       "      <td>Snowboard Cross</td>\n",
       "      <td>Bronze</td>\n",
       "      <td>France</td>\n",
       "      <td>FRA</td>\n",
       "    </tr>\n",
       "  </tbody>\n",
       "</table>\n",
       "<p>36935 rows × 12 columns</p>\n",
       "</div>"
      ],
      "text/plain": [
       "      Edition  Year    City     Sport Discipline             Athlete  \\\n",
       "0      Summer  1896  Athens  Aquatics   Swimming       HAJOS, Alfred   \n",
       "1      Summer  1896  Athens  Aquatics   Swimming    HERSCHMANN, Otto   \n",
       "2      Summer  1896  Athens  Aquatics   Swimming   DRIVAS, Dimitrios   \n",
       "3      Summer  1896  Athens  Aquatics   Swimming  MALOKINIS, Ioannis   \n",
       "4      Summer  1896  Athens  Aquatics   Swimming  CHASAPIS, Spiridon   \n",
       "...       ...   ...     ...       ...        ...                 ...   \n",
       "36930  Winter  2014   Sochi    Skiing  Snowboard        JONES, Jenny   \n",
       "36931  Winter  2014   Sochi    Skiing  Snowboard     ANDERSON, Jamie   \n",
       "36932  Winter  2014   Sochi    Skiing  Snowboard  MALTAIS, Dominique   \n",
       "36933  Winter  2014   Sochi    Skiing  Snowboard        SAMKOVA, Eva   \n",
       "36934  Winter  2014   Sochi    Skiing  Snowboard    TRESPEUCH, Chloe   \n",
       "\n",
       "      Country_x Gender                       Event   Medal       Country_y  \\\n",
       "0           HUN    Men              100M Freestyle    Gold         Hungary   \n",
       "1           AUT    Men              100M Freestyle  Silver         Austria   \n",
       "2           GRE    Men  100M Freestyle For Sailors  Bronze          Greece   \n",
       "3           GRE    Men  100M Freestyle For Sailors    Gold          Greece   \n",
       "4           GRE    Men  100M Freestyle For Sailors  Silver          Greece   \n",
       "...         ...    ...                         ...     ...             ...   \n",
       "36930       GBR  Women                  Slopestyle  Bronze  United Kingdom   \n",
       "36931       USA  Women                  Slopestyle    Gold   United States   \n",
       "36932       CAN  Women             Snowboard Cross  Silver          Canada   \n",
       "36933       CZE  Women             Snowboard Cross    Gold  Czech Republic   \n",
       "36934       FRA  Women             Snowboard Cross  Bronze          France   \n",
       "\n",
       "      Code  \n",
       "0      HUN  \n",
       "1      AUT  \n",
       "2      GRE  \n",
       "3      GRE  \n",
       "4      GRE  \n",
       "...    ...  \n",
       "36930  GBR  \n",
       "36931  USA  \n",
       "36932  CAN  \n",
       "36933  CZE  \n",
       "36934  FRA  \n",
       "\n",
       "[36935 rows x 12 columns]"
      ]
     },
     "execution_count": 71,
     "metadata": {},
     "output_type": "execute_result"
    }
   ],
   "source": [
    "olympics.merge(dic.iloc[:,:2], how='left', left_on=\"Country\", right_on=\"Code\")"
   ]
  },
  {
   "cell_type": "markdown",
   "metadata": {},
   "source": [
    "2. droping __Code__ column from olympics"
   ]
  },
  {
   "cell_type": "code",
   "execution_count": 72,
   "metadata": {},
   "outputs": [],
   "source": [
    "olympics = olympics.merge(dic.iloc[:,:2], how='left',left_on=\"Country\",right_on='Code').drop(columns=\"Code\")"
   ]
  },
  {
   "cell_type": "code",
   "execution_count": 73,
   "metadata": {},
   "outputs": [],
   "source": [
    "olympics.rename(columns={'Country_x': \"Code\", \"Country_y\":\"Country\"}, inplace=True)\n",
    "olympics.reset_index(drop=True, inplace=True)"
   ]
  },
  {
   "cell_type": "code",
   "execution_count": 78,
   "metadata": {},
   "outputs": [
    {
     "data": {
      "text/html": [
       "<div>\n",
       "<style scoped>\n",
       "    .dataframe tbody tr th:only-of-type {\n",
       "        vertical-align: middle;\n",
       "    }\n",
       "\n",
       "    .dataframe tbody tr th {\n",
       "        vertical-align: top;\n",
       "    }\n",
       "\n",
       "    .dataframe thead th {\n",
       "        text-align: right;\n",
       "    }\n",
       "</style>\n",
       "<table border=\"1\" class=\"dataframe\">\n",
       "  <thead>\n",
       "    <tr style=\"text-align: right;\">\n",
       "      <th></th>\n",
       "      <th>Edition</th>\n",
       "      <th>Year</th>\n",
       "      <th>City</th>\n",
       "      <th>Sport</th>\n",
       "      <th>Discipline</th>\n",
       "      <th>Athlete</th>\n",
       "      <th>Code</th>\n",
       "      <th>Gender</th>\n",
       "      <th>Event</th>\n",
       "      <th>Medal</th>\n",
       "      <th>Country</th>\n",
       "    </tr>\n",
       "  </thead>\n",
       "  <tbody>\n",
       "    <tr>\n",
       "      <th>0</th>\n",
       "      <td>Summer</td>\n",
       "      <td>1896</td>\n",
       "      <td>Athens</td>\n",
       "      <td>Aquatics</td>\n",
       "      <td>Swimming</td>\n",
       "      <td>HAJOS, Alfred</td>\n",
       "      <td>HUN</td>\n",
       "      <td>Men</td>\n",
       "      <td>100M Freestyle</td>\n",
       "      <td>Gold</td>\n",
       "      <td>Hungary</td>\n",
       "    </tr>\n",
       "    <tr>\n",
       "      <th>1</th>\n",
       "      <td>Summer</td>\n",
       "      <td>1896</td>\n",
       "      <td>Athens</td>\n",
       "      <td>Aquatics</td>\n",
       "      <td>Swimming</td>\n",
       "      <td>HERSCHMANN, Otto</td>\n",
       "      <td>AUT</td>\n",
       "      <td>Men</td>\n",
       "      <td>100M Freestyle</td>\n",
       "      <td>Silver</td>\n",
       "      <td>Austria</td>\n",
       "    </tr>\n",
       "  </tbody>\n",
       "</table>\n",
       "</div>"
      ],
      "text/plain": [
       "  Edition  Year    City     Sport Discipline           Athlete Code Gender  \\\n",
       "0  Summer  1896  Athens  Aquatics   Swimming     HAJOS, Alfred  HUN    Men   \n",
       "1  Summer  1896  Athens  Aquatics   Swimming  HERSCHMANN, Otto  AUT    Men   \n",
       "\n",
       "            Event   Medal  Country  \n",
       "0  100M Freestyle    Gold  Hungary  \n",
       "1  100M Freestyle  Silver  Austria  "
      ]
     },
     "execution_count": 78,
     "metadata": {},
     "output_type": "execute_result"
    }
   ],
   "source": [
    "olympics.head(2)\n"
   ]
  },
  {
   "cell_type": "markdown",
   "metadata": {},
   "source": [
    "## Data Cleaning"
   ]
  },
  {
   "cell_type": "code",
   "execution_count": 80,
   "metadata": {},
   "outputs": [
    {
     "data": {
      "text/html": [
       "<div>\n",
       "<style scoped>\n",
       "    .dataframe tbody tr th:only-of-type {\n",
       "        vertical-align: middle;\n",
       "    }\n",
       "\n",
       "    .dataframe tbody tr th {\n",
       "        vertical-align: top;\n",
       "    }\n",
       "\n",
       "    .dataframe thead th {\n",
       "        text-align: right;\n",
       "    }\n",
       "</style>\n",
       "<table border=\"1\" class=\"dataframe\">\n",
       "  <thead>\n",
       "    <tr style=\"text-align: right;\">\n",
       "      <th></th>\n",
       "      <th>Edition</th>\n",
       "      <th>Year</th>\n",
       "      <th>City</th>\n",
       "      <th>Sport</th>\n",
       "      <th>Discipline</th>\n",
       "      <th>Athlete</th>\n",
       "      <th>Code</th>\n",
       "      <th>Gender</th>\n",
       "      <th>Event</th>\n",
       "      <th>Medal</th>\n",
       "      <th>Country</th>\n",
       "    </tr>\n",
       "  </thead>\n",
       "  <tbody>\n",
       "    <tr>\n",
       "      <th>132</th>\n",
       "      <td>Summer</td>\n",
       "      <td>1896</td>\n",
       "      <td>Athens</td>\n",
       "      <td>Tennis</td>\n",
       "      <td>Tennis</td>\n",
       "      <td>FLACK, Edwin</td>\n",
       "      <td>ZZX</td>\n",
       "      <td>Men</td>\n",
       "      <td>Doubles</td>\n",
       "      <td>Bronze</td>\n",
       "      <td>NaN</td>\n",
       "    </tr>\n",
       "    <tr>\n",
       "      <th>133</th>\n",
       "      <td>Summer</td>\n",
       "      <td>1896</td>\n",
       "      <td>Athens</td>\n",
       "      <td>Tennis</td>\n",
       "      <td>Tennis</td>\n",
       "      <td>ROBERTSON, George Stuart</td>\n",
       "      <td>ZZX</td>\n",
       "      <td>Men</td>\n",
       "      <td>Doubles</td>\n",
       "      <td>Bronze</td>\n",
       "      <td>NaN</td>\n",
       "    </tr>\n",
       "    <tr>\n",
       "      <th>134</th>\n",
       "      <td>Summer</td>\n",
       "      <td>1896</td>\n",
       "      <td>Athens</td>\n",
       "      <td>Tennis</td>\n",
       "      <td>Tennis</td>\n",
       "      <td>BOLAND, John</td>\n",
       "      <td>ZZX</td>\n",
       "      <td>Men</td>\n",
       "      <td>Doubles</td>\n",
       "      <td>Gold</td>\n",
       "      <td>NaN</td>\n",
       "    </tr>\n",
       "    <tr>\n",
       "      <th>135</th>\n",
       "      <td>Summer</td>\n",
       "      <td>1896</td>\n",
       "      <td>Athens</td>\n",
       "      <td>Tennis</td>\n",
       "      <td>Tennis</td>\n",
       "      <td>TRAUN, Friedrich</td>\n",
       "      <td>ZZX</td>\n",
       "      <td>Men</td>\n",
       "      <td>Doubles</td>\n",
       "      <td>Gold</td>\n",
       "      <td>NaN</td>\n",
       "    </tr>\n",
       "    <tr>\n",
       "      <th>136</th>\n",
       "      <td>Summer</td>\n",
       "      <td>1896</td>\n",
       "      <td>Athens</td>\n",
       "      <td>Tennis</td>\n",
       "      <td>Tennis</td>\n",
       "      <td>KASDAGLIS, Dionysios</td>\n",
       "      <td>ZZX</td>\n",
       "      <td>Men</td>\n",
       "      <td>Doubles</td>\n",
       "      <td>Silver</td>\n",
       "      <td>NaN</td>\n",
       "    </tr>\n",
       "    <tr>\n",
       "      <th>...</th>\n",
       "      <td>...</td>\n",
       "      <td>...</td>\n",
       "      <td>...</td>\n",
       "      <td>...</td>\n",
       "      <td>...</td>\n",
       "      <td>...</td>\n",
       "      <td>...</td>\n",
       "      <td>...</td>\n",
       "      <td>...</td>\n",
       "      <td>...</td>\n",
       "      <td>...</td>\n",
       "    </tr>\n",
       "    <tr>\n",
       "      <th>33961</th>\n",
       "      <td>Winter</td>\n",
       "      <td>1992</td>\n",
       "      <td>Albertville</td>\n",
       "      <td>Skiing</td>\n",
       "      <td>Freestyle Skiing</td>\n",
       "      <td>KOZHEVNIKOVA, Yelizaveta</td>\n",
       "      <td>EUN</td>\n",
       "      <td>Women</td>\n",
       "      <td>Moguls</td>\n",
       "      <td>Silver</td>\n",
       "      <td>NaN</td>\n",
       "    </tr>\n",
       "    <tr>\n",
       "      <th>33977</th>\n",
       "      <td>Winter</td>\n",
       "      <td>1992</td>\n",
       "      <td>Albertville</td>\n",
       "      <td>Skiing</td>\n",
       "      <td>Ski Jumping</td>\n",
       "      <td>GODER, Tomas</td>\n",
       "      <td>TCH</td>\n",
       "      <td>Men</td>\n",
       "      <td>K120 Team (90M)</td>\n",
       "      <td>Bronze</td>\n",
       "      <td>NaN</td>\n",
       "    </tr>\n",
       "    <tr>\n",
       "      <th>33978</th>\n",
       "      <td>Winter</td>\n",
       "      <td>1992</td>\n",
       "      <td>Albertville</td>\n",
       "      <td>Skiing</td>\n",
       "      <td>Ski Jumping</td>\n",
       "      <td>JEZ, Frantisek</td>\n",
       "      <td>TCH</td>\n",
       "      <td>Men</td>\n",
       "      <td>K120 Team (90M)</td>\n",
       "      <td>Bronze</td>\n",
       "      <td>NaN</td>\n",
       "    </tr>\n",
       "    <tr>\n",
       "      <th>33979</th>\n",
       "      <td>Winter</td>\n",
       "      <td>1992</td>\n",
       "      <td>Albertville</td>\n",
       "      <td>Skiing</td>\n",
       "      <td>Ski Jumping</td>\n",
       "      <td>PARMA, Jiri</td>\n",
       "      <td>TCH</td>\n",
       "      <td>Men</td>\n",
       "      <td>K120 Team (90M)</td>\n",
       "      <td>Bronze</td>\n",
       "      <td>NaN</td>\n",
       "    </tr>\n",
       "    <tr>\n",
       "      <th>33980</th>\n",
       "      <td>Winter</td>\n",
       "      <td>1992</td>\n",
       "      <td>Albertville</td>\n",
       "      <td>Skiing</td>\n",
       "      <td>Ski Jumping</td>\n",
       "      <td>SAKALA, Jaroslav</td>\n",
       "      <td>TCH</td>\n",
       "      <td>Men</td>\n",
       "      <td>K120 Team (90M)</td>\n",
       "      <td>Bronze</td>\n",
       "      <td>NaN</td>\n",
       "    </tr>\n",
       "  </tbody>\n",
       "</table>\n",
       "<p>6367 rows × 11 columns</p>\n",
       "</div>"
      ],
      "text/plain": [
       "      Edition  Year         City   Sport        Discipline  \\\n",
       "132    Summer  1896       Athens  Tennis            Tennis   \n",
       "133    Summer  1896       Athens  Tennis            Tennis   \n",
       "134    Summer  1896       Athens  Tennis            Tennis   \n",
       "135    Summer  1896       Athens  Tennis            Tennis   \n",
       "136    Summer  1896       Athens  Tennis            Tennis   \n",
       "...       ...   ...          ...     ...               ...   \n",
       "33961  Winter  1992  Albertville  Skiing  Freestyle Skiing   \n",
       "33977  Winter  1992  Albertville  Skiing       Ski Jumping   \n",
       "33978  Winter  1992  Albertville  Skiing       Ski Jumping   \n",
       "33979  Winter  1992  Albertville  Skiing       Ski Jumping   \n",
       "33980  Winter  1992  Albertville  Skiing       Ski Jumping   \n",
       "\n",
       "                        Athlete Code Gender            Event   Medal Country  \n",
       "132                FLACK, Edwin  ZZX    Men          Doubles  Bronze     NaN  \n",
       "133    ROBERTSON, George Stuart  ZZX    Men          Doubles  Bronze     NaN  \n",
       "134                BOLAND, John  ZZX    Men          Doubles    Gold     NaN  \n",
       "135            TRAUN, Friedrich  ZZX    Men          Doubles    Gold     NaN  \n",
       "136        KASDAGLIS, Dionysios  ZZX    Men          Doubles  Silver     NaN  \n",
       "...                         ...  ...    ...              ...     ...     ...  \n",
       "33961  KOZHEVNIKOVA, Yelizaveta  EUN  Women           Moguls  Silver     NaN  \n",
       "33977              GODER, Tomas  TCH    Men  K120 Team (90M)  Bronze     NaN  \n",
       "33978            JEZ, Frantisek  TCH    Men  K120 Team (90M)  Bronze     NaN  \n",
       "33979               PARMA, Jiri  TCH    Men  K120 Team (90M)  Bronze     NaN  \n",
       "33980          SAKALA, Jaroslav  TCH    Men  K120 Team (90M)  Bronze     NaN  \n",
       "\n",
       "[6367 rows x 11 columns]"
      ]
     },
     "execution_count": 80,
     "metadata": {},
     "output_type": "execute_result"
    }
   ],
   "source": [
    "olympics.loc[olympics.Country.isnull()]\n"
   ]
  },
  {
   "cell_type": "markdown",
   "metadata": {},
   "source": [
    "1. There is some NaN value in Country column because the code is not present in the dic dataframe so I'm filling those values manually."
   ]
  },
  {
   "cell_type": "code",
   "execution_count": 81,
   "metadata": {},
   "outputs": [],
   "source": [
    "missing_country_index = olympics.loc[olympics.Country.isnull()].index"
   ]
  },
  {
   "cell_type": "code",
   "execution_count": 84,
   "metadata": {},
   "outputs": [
    {
     "data": {
      "text/plain": [
       "URS    2489\n",
       "GDR     987\n",
       "ROU     642\n",
       "FRG     584\n",
       "TCH     487\n",
       "YUG     442\n",
       "EUN     283\n",
       "EUA     281\n",
       "ZZX      48\n",
       "SRB      31\n",
       "ANZ      29\n",
       "RU1      17\n",
       "MNE      14\n",
       "TTO      10\n",
       "BOH       7\n",
       "BWI       5\n",
       "SGP       4\n",
       "IOP       3\n",
       "Name: Code, dtype: int64"
      ]
     },
     "execution_count": 84,
     "metadata": {},
     "output_type": "execute_result"
    }
   ],
   "source": [
    "olympics.loc[missing_country_index].Code.value_counts()"
   ]
  },
  {
   "cell_type": "code",
   "execution_count": 85,
   "metadata": {},
   "outputs": [],
   "source": [
    "country_codes = olympics.loc[missing_country_index].Code.value_counts().index"
   ]
  },
  {
   "cell_type": "markdown",
   "metadata": {},
   "source": [
    "1. mapping codes with country names"
   ]
  },
  {
   "cell_type": "code",
   "execution_count": 86,
   "metadata": {},
   "outputs": [],
   "source": [
    "mapper = pd.Series(index=country_codes, name=\"Country\", data=[\"Soviet Union\", \"East Germany\", \"Romania\", \"West Germany\", \"Czechoslovakia\",\n",
    "                                                      \"Yugoslavia\", \"Unified Team\", \"Unified Team of Germany\", \"Mixed teams\", \"Serbia\",\n",
    "                                                      \"Australasia\", \"Russian Empire\", \"Montenegro\", \"Trinidad and Tobago\", \"Bohemia\",\n",
    "                                                      \"West Indies Federation\", \"Singapore\", \"Independent Olympic Participants\"])\n"
   ]
  },
  {
   "cell_type": "code",
   "execution_count": 90,
   "metadata": {},
   "outputs": [
    {
     "data": {
      "text/plain": [
       "URS                        Soviet Union\n",
       "GDR                        East Germany\n",
       "ROU                             Romania\n",
       "FRG                        West Germany\n",
       "TCH                      Czechoslovakia\n",
       "YUG                          Yugoslavia\n",
       "EUN                        Unified Team\n",
       "EUA             Unified Team of Germany\n",
       "ZZX                         Mixed teams\n",
       "SRB                              Serbia\n",
       "ANZ                         Australasia\n",
       "RU1                      Russian Empire\n",
       "MNE                          Montenegro\n",
       "TTO                 Trinidad and Tobago\n",
       "BOH                             Bohemia\n",
       "BWI              West Indies Federation\n",
       "SGP                           Singapore\n",
       "IOP    Independent Olympic Participants\n",
       "Name: Country, dtype: object"
      ]
     },
     "execution_count": 90,
     "metadata": {},
     "output_type": "execute_result"
    }
   ],
   "source": [
    "mapper"
   ]
  },
  {
   "cell_type": "code",
   "execution_count": 91,
   "metadata": {},
   "outputs": [
    {
     "data": {
      "text/plain": [
       "132         Mixed teams\n",
       "133         Mixed teams\n",
       "134         Mixed teams\n",
       "135         Mixed teams\n",
       "136         Mixed teams\n",
       "              ...      \n",
       "33961      Unified Team\n",
       "33977    Czechoslovakia\n",
       "33978    Czechoslovakia\n",
       "33979    Czechoslovakia\n",
       "33980    Czechoslovakia\n",
       "Name: Code, Length: 6367, dtype: object"
      ]
     },
     "execution_count": 91,
     "metadata": {},
     "output_type": "execute_result"
    }
   ],
   "source": [
    "olympics.loc[missing_country_index,\"Code\"].map(mapper)"
   ]
  },
  {
   "cell_type": "code",
   "execution_count": 92,
   "metadata": {},
   "outputs": [],
   "source": [
    "olympics.Country.fillna(olympics.Code.map(mapper),inplace=True)"
   ]
  },
  {
   "cell_type": "code",
   "execution_count": 93,
   "metadata": {},
   "outputs": [
    {
     "data": {
      "text/html": [
       "<div>\n",
       "<style scoped>\n",
       "    .dataframe tbody tr th:only-of-type {\n",
       "        vertical-align: middle;\n",
       "    }\n",
       "\n",
       "    .dataframe tbody tr th {\n",
       "        vertical-align: top;\n",
       "    }\n",
       "\n",
       "    .dataframe thead th {\n",
       "        text-align: right;\n",
       "    }\n",
       "</style>\n",
       "<table border=\"1\" class=\"dataframe\">\n",
       "  <thead>\n",
       "    <tr style=\"text-align: right;\">\n",
       "      <th></th>\n",
       "      <th>Edition</th>\n",
       "      <th>Year</th>\n",
       "      <th>City</th>\n",
       "      <th>Sport</th>\n",
       "      <th>Discipline</th>\n",
       "      <th>Athlete</th>\n",
       "      <th>Code</th>\n",
       "      <th>Gender</th>\n",
       "      <th>Event</th>\n",
       "      <th>Medal</th>\n",
       "      <th>Country</th>\n",
       "    </tr>\n",
       "  </thead>\n",
       "  <tbody>\n",
       "    <tr>\n",
       "      <th>132</th>\n",
       "      <td>Summer</td>\n",
       "      <td>1896</td>\n",
       "      <td>Athens</td>\n",
       "      <td>Tennis</td>\n",
       "      <td>Tennis</td>\n",
       "      <td>FLACK, Edwin</td>\n",
       "      <td>ZZX</td>\n",
       "      <td>Men</td>\n",
       "      <td>Doubles</td>\n",
       "      <td>Bronze</td>\n",
       "      <td>Mixed teams</td>\n",
       "    </tr>\n",
       "    <tr>\n",
       "      <th>133</th>\n",
       "      <td>Summer</td>\n",
       "      <td>1896</td>\n",
       "      <td>Athens</td>\n",
       "      <td>Tennis</td>\n",
       "      <td>Tennis</td>\n",
       "      <td>ROBERTSON, George Stuart</td>\n",
       "      <td>ZZX</td>\n",
       "      <td>Men</td>\n",
       "      <td>Doubles</td>\n",
       "      <td>Bronze</td>\n",
       "      <td>Mixed teams</td>\n",
       "    </tr>\n",
       "    <tr>\n",
       "      <th>134</th>\n",
       "      <td>Summer</td>\n",
       "      <td>1896</td>\n",
       "      <td>Athens</td>\n",
       "      <td>Tennis</td>\n",
       "      <td>Tennis</td>\n",
       "      <td>BOLAND, John</td>\n",
       "      <td>ZZX</td>\n",
       "      <td>Men</td>\n",
       "      <td>Doubles</td>\n",
       "      <td>Gold</td>\n",
       "      <td>Mixed teams</td>\n",
       "    </tr>\n",
       "    <tr>\n",
       "      <th>135</th>\n",
       "      <td>Summer</td>\n",
       "      <td>1896</td>\n",
       "      <td>Athens</td>\n",
       "      <td>Tennis</td>\n",
       "      <td>Tennis</td>\n",
       "      <td>TRAUN, Friedrich</td>\n",
       "      <td>ZZX</td>\n",
       "      <td>Men</td>\n",
       "      <td>Doubles</td>\n",
       "      <td>Gold</td>\n",
       "      <td>Mixed teams</td>\n",
       "    </tr>\n",
       "    <tr>\n",
       "      <th>136</th>\n",
       "      <td>Summer</td>\n",
       "      <td>1896</td>\n",
       "      <td>Athens</td>\n",
       "      <td>Tennis</td>\n",
       "      <td>Tennis</td>\n",
       "      <td>KASDAGLIS, Dionysios</td>\n",
       "      <td>ZZX</td>\n",
       "      <td>Men</td>\n",
       "      <td>Doubles</td>\n",
       "      <td>Silver</td>\n",
       "      <td>Mixed teams</td>\n",
       "    </tr>\n",
       "    <tr>\n",
       "      <th>...</th>\n",
       "      <td>...</td>\n",
       "      <td>...</td>\n",
       "      <td>...</td>\n",
       "      <td>...</td>\n",
       "      <td>...</td>\n",
       "      <td>...</td>\n",
       "      <td>...</td>\n",
       "      <td>...</td>\n",
       "      <td>...</td>\n",
       "      <td>...</td>\n",
       "      <td>...</td>\n",
       "    </tr>\n",
       "    <tr>\n",
       "      <th>33961</th>\n",
       "      <td>Winter</td>\n",
       "      <td>1992</td>\n",
       "      <td>Albertville</td>\n",
       "      <td>Skiing</td>\n",
       "      <td>Freestyle Skiing</td>\n",
       "      <td>KOZHEVNIKOVA, Yelizaveta</td>\n",
       "      <td>EUN</td>\n",
       "      <td>Women</td>\n",
       "      <td>Moguls</td>\n",
       "      <td>Silver</td>\n",
       "      <td>Unified Team</td>\n",
       "    </tr>\n",
       "    <tr>\n",
       "      <th>33977</th>\n",
       "      <td>Winter</td>\n",
       "      <td>1992</td>\n",
       "      <td>Albertville</td>\n",
       "      <td>Skiing</td>\n",
       "      <td>Ski Jumping</td>\n",
       "      <td>GODER, Tomas</td>\n",
       "      <td>TCH</td>\n",
       "      <td>Men</td>\n",
       "      <td>K120 Team (90M)</td>\n",
       "      <td>Bronze</td>\n",
       "      <td>Czechoslovakia</td>\n",
       "    </tr>\n",
       "    <tr>\n",
       "      <th>33978</th>\n",
       "      <td>Winter</td>\n",
       "      <td>1992</td>\n",
       "      <td>Albertville</td>\n",
       "      <td>Skiing</td>\n",
       "      <td>Ski Jumping</td>\n",
       "      <td>JEZ, Frantisek</td>\n",
       "      <td>TCH</td>\n",
       "      <td>Men</td>\n",
       "      <td>K120 Team (90M)</td>\n",
       "      <td>Bronze</td>\n",
       "      <td>Czechoslovakia</td>\n",
       "    </tr>\n",
       "    <tr>\n",
       "      <th>33979</th>\n",
       "      <td>Winter</td>\n",
       "      <td>1992</td>\n",
       "      <td>Albertville</td>\n",
       "      <td>Skiing</td>\n",
       "      <td>Ski Jumping</td>\n",
       "      <td>PARMA, Jiri</td>\n",
       "      <td>TCH</td>\n",
       "      <td>Men</td>\n",
       "      <td>K120 Team (90M)</td>\n",
       "      <td>Bronze</td>\n",
       "      <td>Czechoslovakia</td>\n",
       "    </tr>\n",
       "    <tr>\n",
       "      <th>33980</th>\n",
       "      <td>Winter</td>\n",
       "      <td>1992</td>\n",
       "      <td>Albertville</td>\n",
       "      <td>Skiing</td>\n",
       "      <td>Ski Jumping</td>\n",
       "      <td>SAKALA, Jaroslav</td>\n",
       "      <td>TCH</td>\n",
       "      <td>Men</td>\n",
       "      <td>K120 Team (90M)</td>\n",
       "      <td>Bronze</td>\n",
       "      <td>Czechoslovakia</td>\n",
       "    </tr>\n",
       "  </tbody>\n",
       "</table>\n",
       "<p>6367 rows × 11 columns</p>\n",
       "</div>"
      ],
      "text/plain": [
       "      Edition  Year         City   Sport        Discipline  \\\n",
       "132    Summer  1896       Athens  Tennis            Tennis   \n",
       "133    Summer  1896       Athens  Tennis            Tennis   \n",
       "134    Summer  1896       Athens  Tennis            Tennis   \n",
       "135    Summer  1896       Athens  Tennis            Tennis   \n",
       "136    Summer  1896       Athens  Tennis            Tennis   \n",
       "...       ...   ...          ...     ...               ...   \n",
       "33961  Winter  1992  Albertville  Skiing  Freestyle Skiing   \n",
       "33977  Winter  1992  Albertville  Skiing       Ski Jumping   \n",
       "33978  Winter  1992  Albertville  Skiing       Ski Jumping   \n",
       "33979  Winter  1992  Albertville  Skiing       Ski Jumping   \n",
       "33980  Winter  1992  Albertville  Skiing       Ski Jumping   \n",
       "\n",
       "                        Athlete Code Gender            Event   Medal  \\\n",
       "132                FLACK, Edwin  ZZX    Men          Doubles  Bronze   \n",
       "133    ROBERTSON, George Stuart  ZZX    Men          Doubles  Bronze   \n",
       "134                BOLAND, John  ZZX    Men          Doubles    Gold   \n",
       "135            TRAUN, Friedrich  ZZX    Men          Doubles    Gold   \n",
       "136        KASDAGLIS, Dionysios  ZZX    Men          Doubles  Silver   \n",
       "...                         ...  ...    ...              ...     ...   \n",
       "33961  KOZHEVNIKOVA, Yelizaveta  EUN  Women           Moguls  Silver   \n",
       "33977              GODER, Tomas  TCH    Men  K120 Team (90M)  Bronze   \n",
       "33978            JEZ, Frantisek  TCH    Men  K120 Team (90M)  Bronze   \n",
       "33979               PARMA, Jiri  TCH    Men  K120 Team (90M)  Bronze   \n",
       "33980          SAKALA, Jaroslav  TCH    Men  K120 Team (90M)  Bronze   \n",
       "\n",
       "              Country  \n",
       "132       Mixed teams  \n",
       "133       Mixed teams  \n",
       "134       Mixed teams  \n",
       "135       Mixed teams  \n",
       "136       Mixed teams  \n",
       "...               ...  \n",
       "33961    Unified Team  \n",
       "33977  Czechoslovakia  \n",
       "33978  Czechoslovakia  \n",
       "33979  Czechoslovakia  \n",
       "33980  Czechoslovakia  \n",
       "\n",
       "[6367 rows x 11 columns]"
      ]
     },
     "execution_count": 93,
     "metadata": {},
     "output_type": "execute_result"
    }
   ],
   "source": [
    "olympics.loc[missing_country_index]"
   ]
  },
  {
   "cell_type": "markdown",
   "metadata": {},
   "source": [
    "2. Removing rows from the olympics where country code is NaN"
   ]
  },
  {
   "cell_type": "code",
   "execution_count": 95,
   "metadata": {},
   "outputs": [
    {
     "data": {
      "text/html": [
       "<div>\n",
       "<style scoped>\n",
       "    .dataframe tbody tr th:only-of-type {\n",
       "        vertical-align: middle;\n",
       "    }\n",
       "\n",
       "    .dataframe tbody tr th {\n",
       "        vertical-align: top;\n",
       "    }\n",
       "\n",
       "    .dataframe thead th {\n",
       "        text-align: right;\n",
       "    }\n",
       "</style>\n",
       "<table border=\"1\" class=\"dataframe\">\n",
       "  <thead>\n",
       "    <tr style=\"text-align: right;\">\n",
       "      <th></th>\n",
       "      <th>Edition</th>\n",
       "      <th>Year</th>\n",
       "      <th>City</th>\n",
       "      <th>Sport</th>\n",
       "      <th>Discipline</th>\n",
       "      <th>Athlete</th>\n",
       "      <th>Code</th>\n",
       "      <th>Gender</th>\n",
       "      <th>Event</th>\n",
       "      <th>Medal</th>\n",
       "      <th>Country</th>\n",
       "    </tr>\n",
       "  </thead>\n",
       "  <tbody>\n",
       "    <tr>\n",
       "      <th>29603</th>\n",
       "      <td>Summer</td>\n",
       "      <td>2012</td>\n",
       "      <td>London</td>\n",
       "      <td>Athletics</td>\n",
       "      <td>Athletics</td>\n",
       "      <td>Pending</td>\n",
       "      <td>NaN</td>\n",
       "      <td>Women</td>\n",
       "      <td>1500M</td>\n",
       "      <td>Gold</td>\n",
       "      <td>NaN</td>\n",
       "    </tr>\n",
       "    <tr>\n",
       "      <th>31072</th>\n",
       "      <td>Summer</td>\n",
       "      <td>2012</td>\n",
       "      <td>London</td>\n",
       "      <td>Weightlifting</td>\n",
       "      <td>Weightlifting</td>\n",
       "      <td>Pending</td>\n",
       "      <td>NaN</td>\n",
       "      <td>Women</td>\n",
       "      <td>63KG</td>\n",
       "      <td>Gold</td>\n",
       "      <td>NaN</td>\n",
       "    </tr>\n",
       "    <tr>\n",
       "      <th>31091</th>\n",
       "      <td>Summer</td>\n",
       "      <td>2012</td>\n",
       "      <td>London</td>\n",
       "      <td>Weightlifting</td>\n",
       "      <td>Weightlifting</td>\n",
       "      <td>Pending</td>\n",
       "      <td>NaN</td>\n",
       "      <td>Men</td>\n",
       "      <td>94KG</td>\n",
       "      <td>Silver</td>\n",
       "      <td>NaN</td>\n",
       "    </tr>\n",
       "    <tr>\n",
       "      <th>31110</th>\n",
       "      <td>Summer</td>\n",
       "      <td>2012</td>\n",
       "      <td>London</td>\n",
       "      <td>Wrestling</td>\n",
       "      <td>Wrestling Freestyle</td>\n",
       "      <td>KUDUKHOV, Besik</td>\n",
       "      <td>NaN</td>\n",
       "      <td>Men</td>\n",
       "      <td>Wf 60 KG</td>\n",
       "      <td>Silver</td>\n",
       "      <td>NaN</td>\n",
       "    </tr>\n",
       "  </tbody>\n",
       "</table>\n",
       "</div>"
      ],
      "text/plain": [
       "      Edition  Year    City          Sport           Discipline  \\\n",
       "29603  Summer  2012  London      Athletics            Athletics   \n",
       "31072  Summer  2012  London  Weightlifting        Weightlifting   \n",
       "31091  Summer  2012  London  Weightlifting        Weightlifting   \n",
       "31110  Summer  2012  London      Wrestling  Wrestling Freestyle   \n",
       "\n",
       "               Athlete Code Gender     Event   Medal Country  \n",
       "29603          Pending  NaN  Women     1500M    Gold     NaN  \n",
       "31072          Pending  NaN  Women      63KG    Gold     NaN  \n",
       "31091          Pending  NaN    Men      94KG  Silver     NaN  \n",
       "31110  KUDUKHOV, Besik  NaN    Men  Wf 60 KG  Silver     NaN  "
      ]
     },
     "execution_count": 95,
     "metadata": {},
     "output_type": "execute_result"
    }
   ],
   "source": [
    "olympics.loc[olympics.Code.isna()]"
   ]
  },
  {
   "cell_type": "code",
   "execution_count": 96,
   "metadata": {},
   "outputs": [],
   "source": [
    "olympics.dropna(subset=['Code'], inplace=True)"
   ]
  },
  {
   "cell_type": "code",
   "execution_count": 97,
   "metadata": {},
   "outputs": [
    {
     "name": "stdout",
     "output_type": "stream",
     "text": [
      "<class 'pandas.core.frame.DataFrame'>\n",
      "Int64Index: 36931 entries, 0 to 36934\n",
      "Data columns (total 11 columns):\n",
      " #   Column      Non-Null Count  Dtype \n",
      "---  ------      --------------  ----- \n",
      " 0   Edition     36931 non-null  object\n",
      " 1   Year        36931 non-null  int64 \n",
      " 2   City        36931 non-null  object\n",
      " 3   Sport       36931 non-null  object\n",
      " 4   Discipline  36931 non-null  object\n",
      " 5   Athlete     36931 non-null  object\n",
      " 6   Code        36931 non-null  object\n",
      " 7   Gender      36931 non-null  object\n",
      " 8   Event       36931 non-null  object\n",
      " 9   Medal       36931 non-null  object\n",
      " 10  Country     36931 non-null  object\n",
      "dtypes: int64(1), object(10)\n",
      "memory usage: 3.4+ MB\n"
     ]
    }
   ],
   "source": [
    "olympics.info()"
   ]
  },
  {
   "cell_type": "code",
   "execution_count": 98,
   "metadata": {},
   "outputs": [],
   "source": [
    "olympics.reset_index(drop=True, inplace=True)"
   ]
  },
  {
   "cell_type": "markdown",
   "metadata": {},
   "source": [
    "3. Changing type of Medals to Category so we can set an order to it."
   ]
  },
  {
   "cell_type": "code",
   "execution_count": 99,
   "metadata": {},
   "outputs": [],
   "source": [
    "olympics.Medal = olympics.Medal.astype('category')"
   ]
  },
  {
   "cell_type": "code",
   "execution_count": 100,
   "metadata": {},
   "outputs": [
    {
     "data": {
      "text/plain": [
       "36930    Bronze\n",
       "25565    Bronze\n",
       "25562    Bronze\n",
       "25559    Bronze\n",
       "11084    Bronze\n",
       "          ...  \n",
       "10811    Silver\n",
       "10810    Silver\n",
       "10809    Silver\n",
       "25834    Silver\n",
       "18465    Silver\n",
       "Name: Medal, Length: 36931, dtype: category\n",
       "Categories (3, object): ['Bronze', 'Gold', 'Silver']"
      ]
     },
     "execution_count": 100,
     "metadata": {},
     "output_type": "execute_result"
    }
   ],
   "source": [
    "olympics.Medal.sort_values()"
   ]
  },
  {
   "cell_type": "code",
   "execution_count": 159,
   "metadata": {},
   "outputs": [
    {
     "name": "stderr",
     "output_type": "stream",
     "text": [
      "/mnt/d/work/pandas/env/lib/python3.8/site-packages/pandas/core/arrays/categorical.py:2747: FutureWarning: The `inplace` parameter in pandas.Categorical.set_categories is deprecated and will be removed in a future version. Removing unused categories will always return a new Categorical object.\n",
      "  res = method(*args, **kwargs)\n"
     ]
    }
   ],
   "source": [
    "olympics.Medal.cat.set_categories(['Bronze', 'Silver', 'Gold'], ordered=True, inplace=True)"
   ]
  },
  {
   "cell_type": "code",
   "execution_count": 160,
   "metadata": {},
   "outputs": [
    {
     "data": {
      "text/plain": [
       "36930    Bronze\n",
       "8916     Bronze\n",
       "15339    Bronze\n",
       "27698    Bronze\n",
       "8919     Bronze\n",
       "          ...  \n",
       "25833      Gold\n",
       "10807      Gold\n",
       "10806      Gold\n",
       "10804      Gold\n",
       "0          Gold\n",
       "Name: Medal, Length: 36931, dtype: category\n",
       "Categories (3, object): ['Bronze' < 'Silver' < 'Gold']"
      ]
     },
     "execution_count": 160,
     "metadata": {},
     "output_type": "execute_result"
    }
   ],
   "source": [
    "olympics.Medal.sort_values()\n"
   ]
  },
  {
   "cell_type": "markdown",
   "metadata": {},
   "source": [
    "### Q1. What are the most successfull countries."
   ]
  },
  {
   "cell_type": "markdown",
   "metadata": {},
   "source": [
    "1. taking top 10 country present in country column to get total number of medals."
   ]
  },
  {
   "cell_type": "code",
   "execution_count": 164,
   "metadata": {},
   "outputs": [
    {
     "data": {
      "text/html": [
       "<div>\n",
       "<style scoped>\n",
       "    .dataframe tbody tr th:only-of-type {\n",
       "        vertical-align: middle;\n",
       "    }\n",
       "\n",
       "    .dataframe tbody tr th {\n",
       "        vertical-align: top;\n",
       "    }\n",
       "\n",
       "    .dataframe thead th {\n",
       "        text-align: right;\n",
       "    }\n",
       "</style>\n",
       "<table border=\"1\" class=\"dataframe\">\n",
       "  <thead>\n",
       "    <tr style=\"text-align: right;\">\n",
       "      <th></th>\n",
       "      <th>Edition</th>\n",
       "      <th>Year</th>\n",
       "      <th>City</th>\n",
       "      <th>Sport</th>\n",
       "      <th>Discipline</th>\n",
       "      <th>Athlete</th>\n",
       "      <th>Code</th>\n",
       "      <th>Gender</th>\n",
       "      <th>Event</th>\n",
       "      <th>Medal</th>\n",
       "      <th>Country</th>\n",
       "    </tr>\n",
       "  </thead>\n",
       "  <tbody>\n",
       "    <tr>\n",
       "      <th>0</th>\n",
       "      <td>Summer</td>\n",
       "      <td>1896</td>\n",
       "      <td>Athens</td>\n",
       "      <td>Aquatics</td>\n",
       "      <td>Swimming</td>\n",
       "      <td>HAJOS, Alfred</td>\n",
       "      <td>HUN</td>\n",
       "      <td>Men</td>\n",
       "      <td>100M Freestyle</td>\n",
       "      <td>Gold</td>\n",
       "      <td>Hungary</td>\n",
       "    </tr>\n",
       "    <tr>\n",
       "      <th>1</th>\n",
       "      <td>Summer</td>\n",
       "      <td>1896</td>\n",
       "      <td>Athens</td>\n",
       "      <td>Aquatics</td>\n",
       "      <td>Swimming</td>\n",
       "      <td>HERSCHMANN, Otto</td>\n",
       "      <td>AUT</td>\n",
       "      <td>Men</td>\n",
       "      <td>100M Freestyle</td>\n",
       "      <td>Silver</td>\n",
       "      <td>Austria</td>\n",
       "    </tr>\n",
       "  </tbody>\n",
       "</table>\n",
       "</div>"
      ],
      "text/plain": [
       "  Edition  Year    City     Sport Discipline           Athlete Code Gender  \\\n",
       "0  Summer  1896  Athens  Aquatics   Swimming     HAJOS, Alfred  HUN    Men   \n",
       "1  Summer  1896  Athens  Aquatics   Swimming  HERSCHMANN, Otto  AUT    Men   \n",
       "\n",
       "            Event   Medal  Country  \n",
       "0  100M Freestyle    Gold  Hungary  \n",
       "1  100M Freestyle  Silver  Austria  "
      ]
     },
     "execution_count": 164,
     "metadata": {},
     "output_type": "execute_result"
    }
   ],
   "source": [
    "olympics.head(2)"
   ]
  },
  {
   "cell_type": "code",
   "execution_count": 161,
   "metadata": {},
   "outputs": [],
   "source": [
    "top_10 = olympics.Country.value_counts().head(10)"
   ]
  },
  {
   "cell_type": "code",
   "execution_count": 109,
   "metadata": {},
   "outputs": [
    {
     "data": {
      "image/png": "[encoded data removed]",
      "text/plain": [
       "<Figure size 1440x720 with 1 Axes>"
      ]
     },
     "metadata": {
      "needs_background": "light"
     },
     "output_type": "display_data"
    }
   ],
   "source": [
    "top_10.plot(kind='bar', fontsize=15, figsize=(20,10))\n",
    "plt.title('Top 10 Countries by Medals', fontsize=15)\n",
    "plt.ylabel(\"Medals\", fontsize=14)\n",
    "plt.show()"
   ]
  },
  {
   "cell_type": "code",
   "execution_count": 143,
   "metadata": {},
   "outputs": [],
   "source": [
    "olympics_10 = olympics[olympics.Country.isin(top_10.index)]"
   ]
  },
  {
   "cell_type": "code",
   "execution_count": 187,
   "metadata": {},
   "outputs": [
    {
     "data": {
      "image/png": "[encoded data removed]",
      "text/plain": [
       "<Figure size 1440x720 with 1 Axes>"
      ]
     },
     "metadata": {},
     "output_type": "display_data"
    }
   ],
   "source": [
    "plt.figure(figsize=(20,10))\n",
    "sns.set(font_scale=1.5, palette=\"dark\")\n",
    "sns.countplot(data=olympics_10, x=\"Country\", order=top_10.index)\n",
    "plt.title(\"Top 10 Countries by Medal\", fontsize=20)\n",
    "plt.show()\n"
   ]
  },
  {
   "cell_type": "markdown",
   "metadata": {},
   "source": [
    "* Differtiate the Medals on the base of the Edition (summer and winter)"
   ]
  },
  {
   "cell_type": "code",
   "execution_count": 190,
   "metadata": {},
   "outputs": [
    {
     "data": {
      "image/png": "[encoded data removed]",
      "text/plain": [
       "<Figure size 1440x720 with 1 Axes>"
      ]
     },
     "metadata": {},
     "output_type": "display_data"
    }
   ],
   "source": [
    "plt.figure(figsize=(20,10))\n",
    "sns.set(font_scale=1.5, palette='dark')\n",
    "sns.countplot(data=olympics_10, x='Country', hue='Edition', order=top_10.index)\n",
    "plt.title(\"Top 10 Countries by Medals with Olympic Edition\", fontsize=20)\n",
    "plt.show()\n"
   ]
  },
  {
   "cell_type": "markdown",
   "metadata": {},
   "source": [
    "* saperate summer and winter medals "
   ]
  },
  {
   "cell_type": "code",
   "execution_count": 203,
   "metadata": {},
   "outputs": [
    {
     "data": {
      "image/png": "[encoded data removed]",
      "text/plain": [
       "<Figure size 1440x720 with 1 Axes>"
      ]
     },
     "metadata": {},
     "output_type": "display_data"
    }
   ],
   "source": [
    "plt.figure(figsize=(20,10))\n",
    "sns.set(font_scale=1.5, palette='dark')\n",
    "sns.countplot(data=olympics_10, x='Edition', hue='Country', hue_order=top_10.index)\n",
    "plt.title(\"Top 10 Countries by Medals and separated by Olympic Edition\", fontsize=20)\n",
    "plt.show()\n"
   ]
  },
  {
   "cell_type": "markdown",
   "metadata": {},
   "source": [
    "* countries by separated medal (Gold, Silver, Bronze)"
   ]
  },
  {
   "cell_type": "code",
   "execution_count": 209,
   "metadata": {},
   "outputs": [
    {
     "data": {
      "image/png": "[encoded data removed]",
      "text/plain": [
       "<Figure size 1440x720 with 1 Axes>"
      ]
     },
     "metadata": {},
     "output_type": "display_data"
    }
   ],
   "source": [
    "plt.figure(figsize=(20,10))\n",
    "sns.set(font_scale=1.5, palette='dark')\n",
    "sns.countplot(data=olympics_10, x='Country', hue='Medal',\n",
    "              order=top_10.index, hue_order=[\"Gold\", \"Silver\", \"Bronze\"])\n",
    "plt.title(\"Top 10 Countries by separated Medals\", fontsize=20)\n",
    "plt.show()\n"
   ]
  },
  {
   "cell_type": "markdown",
   "metadata": {},
   "source": [
    "* Countries separated by medal types"
   ]
  },
  {
   "cell_type": "code",
   "execution_count": 211,
   "metadata": {},
   "outputs": [
    {
     "data": {
      "image/png": "[encoded data removed]",
      "text/plain": [
       "<Figure size 1440x720 with 1 Axes>"
      ]
     },
     "metadata": {},
     "output_type": "display_data"
    }
   ],
   "source": [
    "plt.figure(figsize=(20,10))\n",
    "sns.set(font_scale=1.5, palette='dark')\n",
    "sns.countplot(data=olympics_10, x='Medal', hue='Country',\n",
    "              order=[\"Gold\", \"Silver\", \"Bronze\"], hue_order=top_10.index)\n",
    "plt.title('Top 10 Countries saperated by medal types',fontsize=20)\n",
    "plt.show()"
   ]
  },
  {
   "cell_type": "markdown",
   "metadata": {},
   "source": [
    "### Q3 - Country's __GDP__ , __Population__ and __Politics__ Matter or not. "
   ]
  },
  {
   "cell_type": "markdown",
   "metadata": {},
   "source": [
    "renaming the `GDP per Capita` column of dic dataframe to `GDP` "
   ]
  },
  {
   "cell_type": "code",
   "execution_count": 215,
   "metadata": {},
   "outputs": [],
   "source": [
    "dic.rename(columns={'GDP per Capita':'GDP'}, inplace=True)"
   ]
  },
  {
   "cell_type": "code",
   "execution_count": 216,
   "metadata": {},
   "outputs": [
    {
     "data": {
      "text/html": [
       "<div>\n",
       "<style scoped>\n",
       "    .dataframe tbody tr th:only-of-type {\n",
       "        vertical-align: middle;\n",
       "    }\n",
       "\n",
       "    .dataframe tbody tr th {\n",
       "        vertical-align: top;\n",
       "    }\n",
       "\n",
       "    .dataframe thead th {\n",
       "        text-align: right;\n",
       "    }\n",
       "</style>\n",
       "<table border=\"1\" class=\"dataframe\">\n",
       "  <thead>\n",
       "    <tr style=\"text-align: right;\">\n",
       "      <th></th>\n",
       "      <th>Country</th>\n",
       "      <th>Code</th>\n",
       "      <th>Population</th>\n",
       "      <th>GDP</th>\n",
       "    </tr>\n",
       "  </thead>\n",
       "  <tbody>\n",
       "    <tr>\n",
       "      <th>0</th>\n",
       "      <td>Afghanistan</td>\n",
       "      <td>AFG</td>\n",
       "      <td>32526562.0</td>\n",
       "      <td>594.323081</td>\n",
       "    </tr>\n",
       "    <tr>\n",
       "      <th>1</th>\n",
       "      <td>Albania</td>\n",
       "      <td>ALB</td>\n",
       "      <td>2889167.0</td>\n",
       "      <td>3945.217582</td>\n",
       "    </tr>\n",
       "  </tbody>\n",
       "</table>\n",
       "</div>"
      ],
      "text/plain": [
       "       Country Code  Population          GDP\n",
       "0  Afghanistan  AFG  32526562.0   594.323081\n",
       "1      Albania  ALB   2889167.0  3945.217582"
      ]
     },
     "execution_count": 216,
     "metadata": {},
     "output_type": "execute_result"
    }
   ],
   "source": [
    "dic.head(2)"
   ]
  },
  {
   "cell_type": "code",
   "execution_count": 241,
   "metadata": {},
   "outputs": [
    {
     "data": {
      "text/html": [
       "<div>\n",
       "<style scoped>\n",
       "    .dataframe tbody tr th:only-of-type {\n",
       "        vertical-align: middle;\n",
       "    }\n",
       "\n",
       "    .dataframe tbody tr th {\n",
       "        vertical-align: top;\n",
       "    }\n",
       "\n",
       "    .dataframe thead th {\n",
       "        text-align: right;\n",
       "    }\n",
       "</style>\n",
       "<table border=\"1\" class=\"dataframe\">\n",
       "  <thead>\n",
       "    <tr style=\"text-align: right;\">\n",
       "      <th>Medal</th>\n",
       "      <th>Bronze</th>\n",
       "      <th>Silver</th>\n",
       "      <th>Gold</th>\n",
       "      <th>Total</th>\n",
       "    </tr>\n",
       "    <tr>\n",
       "      <th>Country</th>\n",
       "      <th></th>\n",
       "      <th></th>\n",
       "      <th></th>\n",
       "      <th></th>\n",
       "    </tr>\n",
       "  </thead>\n",
       "  <tbody>\n",
       "    <tr>\n",
       "      <th>Afghanistan</th>\n",
       "      <td>2</td>\n",
       "      <td>0</td>\n",
       "      <td>0</td>\n",
       "      <td>2</td>\n",
       "    </tr>\n",
       "    <tr>\n",
       "      <th>Algeria</th>\n",
       "      <td>8</td>\n",
       "      <td>2</td>\n",
       "      <td>5</td>\n",
       "      <td>15</td>\n",
       "    </tr>\n",
       "    <tr>\n",
       "      <th>Argentina</th>\n",
       "      <td>91</td>\n",
       "      <td>99</td>\n",
       "      <td>69</td>\n",
       "      <td>259</td>\n",
       "    </tr>\n",
       "    <tr>\n",
       "      <th>Armenia</th>\n",
       "      <td>8</td>\n",
       "      <td>2</td>\n",
       "      <td>1</td>\n",
       "      <td>11</td>\n",
       "    </tr>\n",
       "    <tr>\n",
       "      <th>Australasia</th>\n",
       "      <td>5</td>\n",
       "      <td>4</td>\n",
       "      <td>20</td>\n",
       "      <td>29</td>\n",
       "    </tr>\n",
       "    <tr>\n",
       "      <th>...</th>\n",
       "      <td>...</td>\n",
       "      <td>...</td>\n",
       "      <td>...</td>\n",
       "      <td>...</td>\n",
       "    </tr>\n",
       "    <tr>\n",
       "      <th>West Indies Federation</th>\n",
       "      <td>5</td>\n",
       "      <td>0</td>\n",
       "      <td>0</td>\n",
       "      <td>5</td>\n",
       "    </tr>\n",
       "    <tr>\n",
       "      <th>Yugoslavia</th>\n",
       "      <td>119</td>\n",
       "      <td>180</td>\n",
       "      <td>143</td>\n",
       "      <td>442</td>\n",
       "    </tr>\n",
       "    <tr>\n",
       "      <th>Zambia</th>\n",
       "      <td>1</td>\n",
       "      <td>1</td>\n",
       "      <td>0</td>\n",
       "      <td>2</td>\n",
       "    </tr>\n",
       "    <tr>\n",
       "      <th>Zimbabwe</th>\n",
       "      <td>1</td>\n",
       "      <td>4</td>\n",
       "      <td>18</td>\n",
       "      <td>23</td>\n",
       "    </tr>\n",
       "    <tr>\n",
       "      <th>Total</th>\n",
       "      <td>12288</td>\n",
       "      <td>12238</td>\n",
       "      <td>12405</td>\n",
       "      <td>36931</td>\n",
       "    </tr>\n",
       "  </tbody>\n",
       "</table>\n",
       "<p>146 rows × 4 columns</p>\n",
       "</div>"
      ],
      "text/plain": [
       "Medal                   Bronze  Silver   Gold  Total\n",
       "Country                                             \n",
       "Afghanistan                  2       0      0      2\n",
       "Algeria                      8       2      5     15\n",
       "Argentina                   91      99     69    259\n",
       "Armenia                      8       2      1     11\n",
       "Australasia                  5       4     20     29\n",
       "...                        ...     ...    ...    ...\n",
       "West Indies Federation       5       0      0      5\n",
       "Yugoslavia                 119     180    143    442\n",
       "Zambia                       1       1      0      2\n",
       "Zimbabwe                     1       4     18     23\n",
       "Total                    12288   12238  12405  36931\n",
       "\n",
       "[146 rows x 4 columns]"
      ]
     },
     "execution_count": 241,
     "metadata": {},
     "output_type": "execute_result"
    }
   ],
   "source": [
    "medals_per_country = pd.crosstab(index=olympics.Country, columns=olympics.Medal,\n",
    "                                 margins=True, margins_name=\"Total\")\n"
   ]
  },
  {
   "cell_type": "code",
   "execution_count": null,
   "metadata": {},
   "outputs": [],
   "source": []
  },
  {
   "cell_type": "code",
   "execution_count": 231,
   "metadata": {},
   "outputs": [],
   "source": []
  }
 ],
 "metadata": {
  "interpreter": {
   "hash": "ccc18f4e0a6c3b6dcc37a9f880a67ed5064b09b14f5cd7701b107aebf0ca9e01"
  },
  "kernelspec": {
   "display_name": "Python 3.8.10 ('env': venv)",
   "language": "python",
   "name": "python3"
  },
  "language_info": {
   "codemirror_mode": {
    "name": "ipython",
    "version": 3
   },
   "file_extension": ".py",
   "mimetype": "text/x-python",
   "name": "python",
   "nbconvert_exporter": "python",
   "pygments_lexer": "ipython3",
   "version": "3.8.10"
  },
  "orig_nbformat": 4
 },
 "nbformat": 4,
 "nbformat_minor": 2
}
